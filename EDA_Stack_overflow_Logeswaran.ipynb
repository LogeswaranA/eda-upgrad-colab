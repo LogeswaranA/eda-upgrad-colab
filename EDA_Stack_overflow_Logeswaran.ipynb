{
  "nbformat": 4,
  "nbformat_minor": 0,
  "metadata": {
    "colab": {
      "name": "EDA_Stack_overflow_Logeswaran.ipynb",
      "provenance": [],
      "collapsed_sections": [],
      "authorship_tag": "ABX9TyM6xqP6xrWgWYl87oI9UwQt",
      "include_colab_link": true
    },
    "kernelspec": {
      "name": "python3",
      "display_name": "Python 3"
    },
    "language_info": {
      "name": "python"
    }
  },
  "cells": [
    {
      "cell_type": "markdown",
      "metadata": {
        "id": "view-in-github",
        "colab_type": "text"
      },
      "source": [
        "<a href=\"https://colab.research.google.com/github/loks2cool/eda-upgrad-colab/blob/master/EDA_Stack_overflow_Logeswaran.ipynb\" target=\"_parent\"><img src=\"https://colab.research.google.com/assets/colab-badge.svg\" alt=\"Open In Colab\"/></a>"
      ]
    },
    {
      "cell_type": "code",
      "metadata": {
        "id": "6Xuo5NRqGGKO"
      },
      "source": [
        "import pandas as pd"
      ],
      "execution_count": 1,
      "outputs": []
    },
    {
      "cell_type": "code",
      "metadata": {
        "id": "G8ojpvfiLX9Y"
      },
      "source": [
        "import warnings\n",
        "warnings.filterwarnings('ignore')"
      ],
      "execution_count": 2,
      "outputs": []
    },
    {
      "cell_type": "code",
      "metadata": {
        "id": "_LRr8uJkLfJ3"
      },
      "source": [
        "import numpy as np"
      ],
      "execution_count": 3,
      "outputs": []
    },
    {
      "cell_type": "code",
      "metadata": {
        "id": "6j7iEo1QLhpu"
      },
      "source": [
        "import matplotlib.pyplot as plt"
      ],
      "execution_count": 4,
      "outputs": []
    },
    {
      "cell_type": "code",
      "metadata": {
        "id": "GU8JOk1bLmXE"
      },
      "source": [
        "import seaborn as sns"
      ],
      "execution_count": 5,
      "outputs": []
    },
    {
      "cell_type": "code",
      "metadata": {
        "id": "O3IGUI-nLov7"
      },
      "source": [
        "%matplotlib inline"
      ],
      "execution_count": 6,
      "outputs": []
    },
    {
      "cell_type": "code",
      "metadata": {
        "id": "G1cRQoChGKJR"
      },
      "source": [
        "#while reading the data, faced utf-8 error. So applied this encoding technique to sort out the error.\n",
        "questions = pd.read_csv(\"https://stack-overflow-casestudy-datasets.s3.amazonaws.com/Questions.csv\",encoding='latin-1')"
      ],
      "execution_count": 7,
      "outputs": []
    },
    {
      "cell_type": "code",
      "metadata": {
        "colab": {
          "base_uri": "https://localhost:8080/"
        },
        "id": "2KNTXSPeIgI8",
        "outputId": "0374c91a-bd4e-4360-a02a-7c7b65e32610"
      },
      "source": [
        "#Check total number of questions available \n",
        "questions.count()"
      ],
      "execution_count": 8,
      "outputs": [
        {
          "output_type": "execute_result",
          "data": {
            "text/plain": [
              "Id              1264216\n",
              "OwnerUserId     1249762\n",
              "CreationDate    1264216\n",
              "ClosedDate        55959\n",
              "Score           1264216\n",
              "Title           1264216\n",
              "Body            1264216\n",
              "dtype: int64"
            ]
          },
          "metadata": {
            "tags": []
          },
          "execution_count": 8
        }
      ]
    },
    {
      "cell_type": "code",
      "metadata": {
        "colab": {
          "base_uri": "https://localhost:8080/",
          "height": 204
        },
        "id": "lsJqUj1iHZR1",
        "outputId": "82547e09-f333-4f99-b7e8-0b55e1c1bc99"
      },
      "source": [
        "#Check the first 5 rows to verfiy the data\n",
        "questions.head()"
      ],
      "execution_count": 9,
      "outputs": [
        {
          "output_type": "execute_result",
          "data": {
            "text/html": [
              "<div>\n",
              "<style scoped>\n",
              "    .dataframe tbody tr th:only-of-type {\n",
              "        vertical-align: middle;\n",
              "    }\n",
              "\n",
              "    .dataframe tbody tr th {\n",
              "        vertical-align: top;\n",
              "    }\n",
              "\n",
              "    .dataframe thead th {\n",
              "        text-align: right;\n",
              "    }\n",
              "</style>\n",
              "<table border=\"1\" class=\"dataframe\">\n",
              "  <thead>\n",
              "    <tr style=\"text-align: right;\">\n",
              "      <th></th>\n",
              "      <th>Id</th>\n",
              "      <th>OwnerUserId</th>\n",
              "      <th>CreationDate</th>\n",
              "      <th>ClosedDate</th>\n",
              "      <th>Score</th>\n",
              "      <th>Title</th>\n",
              "      <th>Body</th>\n",
              "    </tr>\n",
              "  </thead>\n",
              "  <tbody>\n",
              "    <tr>\n",
              "      <th>0</th>\n",
              "      <td>80</td>\n",
              "      <td>26.0</td>\n",
              "      <td>2008-08-01T13:57:07Z</td>\n",
              "      <td>NaN</td>\n",
              "      <td>26</td>\n",
              "      <td>SQLStatement.execute() - multiple queries in o...</td>\n",
              "      <td>&lt;p&gt;I've written a database generation script i...</td>\n",
              "    </tr>\n",
              "    <tr>\n",
              "      <th>1</th>\n",
              "      <td>90</td>\n",
              "      <td>58.0</td>\n",
              "      <td>2008-08-01T14:41:24Z</td>\n",
              "      <td>2012-12-26T03:45:49Z</td>\n",
              "      <td>144</td>\n",
              "      <td>Good branching and merging tutorials for Torto...</td>\n",
              "      <td>&lt;p&gt;Are there any really good tutorials explain...</td>\n",
              "    </tr>\n",
              "    <tr>\n",
              "      <th>2</th>\n",
              "      <td>120</td>\n",
              "      <td>83.0</td>\n",
              "      <td>2008-08-01T15:50:08Z</td>\n",
              "      <td>NaN</td>\n",
              "      <td>21</td>\n",
              "      <td>ASP.NET Site Maps</td>\n",
              "      <td>&lt;p&gt;Has anyone got experience creating &lt;strong&gt;...</td>\n",
              "    </tr>\n",
              "    <tr>\n",
              "      <th>3</th>\n",
              "      <td>180</td>\n",
              "      <td>2089740.0</td>\n",
              "      <td>2008-08-01T18:42:19Z</td>\n",
              "      <td>NaN</td>\n",
              "      <td>53</td>\n",
              "      <td>Function for creating color wheels</td>\n",
              "      <td>&lt;p&gt;This is something I've pseudo-solved many t...</td>\n",
              "    </tr>\n",
              "    <tr>\n",
              "      <th>4</th>\n",
              "      <td>260</td>\n",
              "      <td>91.0</td>\n",
              "      <td>2008-08-01T23:22:08Z</td>\n",
              "      <td>NaN</td>\n",
              "      <td>49</td>\n",
              "      <td>Adding scripting functionality to .NET applica...</td>\n",
              "      <td>&lt;p&gt;I have a little game written in C#. It uses...</td>\n",
              "    </tr>\n",
              "  </tbody>\n",
              "</table>\n",
              "</div>"
            ],
            "text/plain": [
              "    Id  ...                                               Body\n",
              "0   80  ...  <p>I've written a database generation script i...\n",
              "1   90  ...  <p>Are there any really good tutorials explain...\n",
              "2  120  ...  <p>Has anyone got experience creating <strong>...\n",
              "3  180  ...  <p>This is something I've pseudo-solved many t...\n",
              "4  260  ...  <p>I have a little game written in C#. It uses...\n",
              "\n",
              "[5 rows x 7 columns]"
            ]
          },
          "metadata": {
            "tags": []
          },
          "execution_count": 9
        }
      ]
    },
    {
      "cell_type": "code",
      "metadata": {
        "colab": {
          "base_uri": "https://localhost:8080/"
        },
        "id": "UBA2Ys7KInOB",
        "outputId": "2e195cb6-ead2-406d-b4e1-c2a104f172e3"
      },
      "source": [
        "#shape of the datasets, explains we have 7 columns and closed to ~13 lacs records\n",
        "questions.shape"
      ],
      "execution_count": 10,
      "outputs": [
        {
          "output_type": "execute_result",
          "data": {
            "text/plain": [
              "(1264216, 7)"
            ]
          },
          "metadata": {
            "tags": []
          },
          "execution_count": 10
        }
      ]
    },
    {
      "cell_type": "code",
      "metadata": {
        "colab": {
          "base_uri": "https://localhost:8080/"
        },
        "id": "s_q8W_jTJL-8",
        "outputId": "107a0d9c-7eaf-4c5c-e35e-68ee3d81a12e"
      },
      "source": [
        "#Explore column names\n",
        "questions.columns"
      ],
      "execution_count": 11,
      "outputs": [
        {
          "output_type": "execute_result",
          "data": {
            "text/plain": [
              "Index(['Id', 'OwnerUserId', 'CreationDate', 'ClosedDate', 'Score', 'Title',\n",
              "       'Body'],\n",
              "      dtype='object')"
            ]
          },
          "metadata": {
            "tags": []
          },
          "execution_count": 11
        }
      ]
    },
    {
      "cell_type": "code",
      "metadata": {
        "colab": {
          "base_uri": "https://localhost:8080/"
        },
        "id": "_6z58AFvJZPr",
        "outputId": "34b2812e-fa69-4b3e-efe2-957d6a0eb013"
      },
      "source": [
        "#to explore the datasets, such as it's data type, non-null values etc\n",
        "questions.info()"
      ],
      "execution_count": 12,
      "outputs": [
        {
          "output_type": "stream",
          "text": [
            "<class 'pandas.core.frame.DataFrame'>\n",
            "RangeIndex: 1264216 entries, 0 to 1264215\n",
            "Data columns (total 7 columns):\n",
            " #   Column        Non-Null Count    Dtype  \n",
            "---  ------        --------------    -----  \n",
            " 0   Id            1264216 non-null  int64  \n",
            " 1   OwnerUserId   1249762 non-null  float64\n",
            " 2   CreationDate  1264216 non-null  object \n",
            " 3   ClosedDate    55959 non-null    object \n",
            " 4   Score         1264216 non-null  int64  \n",
            " 5   Title         1264216 non-null  object \n",
            " 6   Body          1264216 non-null  object \n",
            "dtypes: float64(1), int64(2), object(4)\n",
            "memory usage: 67.5+ MB\n"
          ],
          "name": "stdout"
        }
      ]
    },
    {
      "cell_type": "code",
      "metadata": {
        "id": "Ipa2LhOjJjde"
      },
      "source": [
        "#Read answer datasets\n",
        "answers = pd.read_csv(\"https://stack-overflow-casestudy-datasets.s3.amazonaws.com/Answers.csv\",encoding='latin-1')"
      ],
      "execution_count": 13,
      "outputs": []
    },
    {
      "cell_type": "code",
      "metadata": {
        "id": "82V-b6A2NpAC"
      },
      "source": [
        "#read tag datasets\n",
        "tags = pd.read_csv(\"https://stack-overflow-casestudy-datasets.s3.amazonaws.com/Tags.csv\",encoding='latin-1')"
      ],
      "execution_count": 14,
      "outputs": []
    },
    {
      "cell_type": "code",
      "metadata": {
        "id": "L-eGOoOCN5AR"
      },
      "source": [
        "#read user datasets\n",
        "users = pd.read_csv(\"https://stack-overflow-casestudy-datasets.s3.amazonaws.com/Users.csv\",encoding='latin-1')"
      ],
      "execution_count": 15,
      "outputs": []
    },
    {
      "cell_type": "code",
      "metadata": {
        "colab": {
          "base_uri": "https://localhost:8080/",
          "height": 204
        },
        "id": "c6LZ-A5jN_xv",
        "outputId": "be3b6c78-6f22-4e87-81d9-1a288e57becd"
      },
      "source": [
        "#to explore first few rows\n",
        "answers.head()"
      ],
      "execution_count": 16,
      "outputs": [
        {
          "output_type": "execute_result",
          "data": {
            "text/html": [
              "<div>\n",
              "<style scoped>\n",
              "    .dataframe tbody tr th:only-of-type {\n",
              "        vertical-align: middle;\n",
              "    }\n",
              "\n",
              "    .dataframe tbody tr th {\n",
              "        vertical-align: top;\n",
              "    }\n",
              "\n",
              "    .dataframe thead th {\n",
              "        text-align: right;\n",
              "    }\n",
              "</style>\n",
              "<table border=\"1\" class=\"dataframe\">\n",
              "  <thead>\n",
              "    <tr style=\"text-align: right;\">\n",
              "      <th></th>\n",
              "      <th>Id</th>\n",
              "      <th>OwnerUserId</th>\n",
              "      <th>CreationDate</th>\n",
              "      <th>ParentId</th>\n",
              "      <th>Score</th>\n",
              "      <th>Body</th>\n",
              "    </tr>\n",
              "  </thead>\n",
              "  <tbody>\n",
              "    <tr>\n",
              "      <th>0</th>\n",
              "      <td>92</td>\n",
              "      <td>61.0</td>\n",
              "      <td>2008-08-01T14:45:37Z</td>\n",
              "      <td>90</td>\n",
              "      <td>13</td>\n",
              "      <td>&lt;p&gt;&lt;a href=\"http://svnbook.red-bean.com/\"&gt;Vers...</td>\n",
              "    </tr>\n",
              "    <tr>\n",
              "      <th>1</th>\n",
              "      <td>124</td>\n",
              "      <td>26.0</td>\n",
              "      <td>2008-08-01T16:09:47Z</td>\n",
              "      <td>80</td>\n",
              "      <td>12</td>\n",
              "      <td>&lt;p&gt;I wound up using this. It is a kind of a ha...</td>\n",
              "    </tr>\n",
              "    <tr>\n",
              "      <th>2</th>\n",
              "      <td>199</td>\n",
              "      <td>50.0</td>\n",
              "      <td>2008-08-01T19:36:46Z</td>\n",
              "      <td>180</td>\n",
              "      <td>1</td>\n",
              "      <td>&lt;p&gt;I've read somewhere the human eye can't dis...</td>\n",
              "    </tr>\n",
              "    <tr>\n",
              "      <th>3</th>\n",
              "      <td>269</td>\n",
              "      <td>91.0</td>\n",
              "      <td>2008-08-01T23:49:57Z</td>\n",
              "      <td>260</td>\n",
              "      <td>4</td>\n",
              "      <td>&lt;p&gt;Yes, I thought about that, but I soon figur...</td>\n",
              "    </tr>\n",
              "    <tr>\n",
              "      <th>4</th>\n",
              "      <td>307</td>\n",
              "      <td>49.0</td>\n",
              "      <td>2008-08-02T01:49:46Z</td>\n",
              "      <td>260</td>\n",
              "      <td>28</td>\n",
              "      <td>&lt;p&gt;&lt;a href=\"http://www.codeproject.com/Article...</td>\n",
              "    </tr>\n",
              "  </tbody>\n",
              "</table>\n",
              "</div>"
            ],
            "text/plain": [
              "    Id  OwnerUserId  ... Score                                               Body\n",
              "0   92         61.0  ...    13  <p><a href=\"http://svnbook.red-bean.com/\">Vers...\n",
              "1  124         26.0  ...    12  <p>I wound up using this. It is a kind of a ha...\n",
              "2  199         50.0  ...     1  <p>I've read somewhere the human eye can't dis...\n",
              "3  269         91.0  ...     4  <p>Yes, I thought about that, but I soon figur...\n",
              "4  307         49.0  ...    28  <p><a href=\"http://www.codeproject.com/Article...\n",
              "\n",
              "[5 rows x 6 columns]"
            ]
          },
          "metadata": {
            "tags": []
          },
          "execution_count": 16
        }
      ]
    },
    {
      "cell_type": "code",
      "metadata": {
        "colab": {
          "base_uri": "https://localhost:8080/"
        },
        "id": "nmrwaiHOOB8h",
        "outputId": "2cb0d46b-dff8-4a2f-bdfd-1858e9435d9f"
      },
      "source": [
        "#to explore first few rows\n",
        "tags.head()\n",
        "tags.count()"
      ],
      "execution_count": 17,
      "outputs": [
        {
          "output_type": "execute_result",
          "data": {
            "text/plain": [
              "Id     3750994\n",
              "Tag    3749881\n",
              "dtype: int64"
            ]
          },
          "metadata": {
            "tags": []
          },
          "execution_count": 17
        }
      ]
    },
    {
      "cell_type": "code",
      "metadata": {
        "colab": {
          "base_uri": "https://localhost:8080/",
          "height": 204
        },
        "id": "5m0qwuhiXYgG",
        "outputId": "60dad19c-3059-446d-b234-2316991fa9d1"
      },
      "source": [
        "tags.head()"
      ],
      "execution_count": 18,
      "outputs": [
        {
          "output_type": "execute_result",
          "data": {
            "text/html": [
              "<div>\n",
              "<style scoped>\n",
              "    .dataframe tbody tr th:only-of-type {\n",
              "        vertical-align: middle;\n",
              "    }\n",
              "\n",
              "    .dataframe tbody tr th {\n",
              "        vertical-align: top;\n",
              "    }\n",
              "\n",
              "    .dataframe thead th {\n",
              "        text-align: right;\n",
              "    }\n",
              "</style>\n",
              "<table border=\"1\" class=\"dataframe\">\n",
              "  <thead>\n",
              "    <tr style=\"text-align: right;\">\n",
              "      <th></th>\n",
              "      <th>Id</th>\n",
              "      <th>Tag</th>\n",
              "    </tr>\n",
              "  </thead>\n",
              "  <tbody>\n",
              "    <tr>\n",
              "      <th>0</th>\n",
              "      <td>80</td>\n",
              "      <td>flex</td>\n",
              "    </tr>\n",
              "    <tr>\n",
              "      <th>1</th>\n",
              "      <td>80</td>\n",
              "      <td>actionscript-3</td>\n",
              "    </tr>\n",
              "    <tr>\n",
              "      <th>2</th>\n",
              "      <td>80</td>\n",
              "      <td>air</td>\n",
              "    </tr>\n",
              "    <tr>\n",
              "      <th>3</th>\n",
              "      <td>90</td>\n",
              "      <td>svn</td>\n",
              "    </tr>\n",
              "    <tr>\n",
              "      <th>4</th>\n",
              "      <td>90</td>\n",
              "      <td>tortoisesvn</td>\n",
              "    </tr>\n",
              "  </tbody>\n",
              "</table>\n",
              "</div>"
            ],
            "text/plain": [
              "   Id             Tag\n",
              "0  80            flex\n",
              "1  80  actionscript-3\n",
              "2  80             air\n",
              "3  90             svn\n",
              "4  90     tortoisesvn"
            ]
          },
          "metadata": {
            "tags": []
          },
          "execution_count": 18
        }
      ]
    },
    {
      "cell_type": "code",
      "metadata": {
        "colab": {
          "base_uri": "https://localhost:8080/"
        },
        "id": "a6eMF_uMXGOQ",
        "outputId": "fcc78f96-85ff-494e-e87e-6ee096c0417e"
      },
      "source": [
        "(tags.duplicated(subset=['Id', 'Tag'])).sum()"
      ],
      "execution_count": 19,
      "outputs": [
        {
          "output_type": "execute_result",
          "data": {
            "text/plain": [
              "1"
            ]
          },
          "metadata": {
            "tags": []
          },
          "execution_count": 19
        }
      ]
    },
    {
      "cell_type": "markdown",
      "metadata": {
        "id": "blTXfwepVNKW"
      },
      "source": [
        "###Clearning Users Datasets"
      ]
    },
    {
      "cell_type": "code",
      "metadata": {
        "colab": {
          "base_uri": "https://localhost:8080/",
          "height": 204
        },
        "id": "V1h1Bfz6OHO_",
        "outputId": "7367f68a-7092-42b6-991a-cbae481b77e1"
      },
      "source": [
        "#to explore first few rows\n",
        "users.head()"
      ],
      "execution_count": 20,
      "outputs": [
        {
          "output_type": "execute_result",
          "data": {
            "text/html": [
              "<div>\n",
              "<style scoped>\n",
              "    .dataframe tbody tr th:only-of-type {\n",
              "        vertical-align: middle;\n",
              "    }\n",
              "\n",
              "    .dataframe tbody tr th {\n",
              "        vertical-align: top;\n",
              "    }\n",
              "\n",
              "    .dataframe thead th {\n",
              "        text-align: right;\n",
              "    }\n",
              "</style>\n",
              "<table border=\"1\" class=\"dataframe\">\n",
              "  <thead>\n",
              "    <tr style=\"text-align: right;\">\n",
              "      <th></th>\n",
              "      <th>Unnamed: 0</th>\n",
              "      <th>id</th>\n",
              "      <th>display_name</th>\n",
              "      <th>creation_date</th>\n",
              "      <th>last_access_date</th>\n",
              "      <th>reputation</th>\n",
              "      <th>up_votes</th>\n",
              "      <th>down_votes</th>\n",
              "      <th>views</th>\n",
              "    </tr>\n",
              "  </thead>\n",
              "  <tbody>\n",
              "    <tr>\n",
              "      <th>0</th>\n",
              "      <td>0</td>\n",
              "      <td>26</td>\n",
              "      <td>Shawn</td>\n",
              "      <td>2008-08-01 12:18:14.52 UTC</td>\n",
              "      <td>2018-04-11 04:40:35.66 UTC</td>\n",
              "      <td>11820</td>\n",
              "      <td>565</td>\n",
              "      <td>67</td>\n",
              "      <td>3547</td>\n",
              "    </tr>\n",
              "    <tr>\n",
              "      <th>1</th>\n",
              "      <td>1</td>\n",
              "      <td>26</td>\n",
              "      <td>Shawn</td>\n",
              "      <td>2008-08-01 12:18:14.52 UTC</td>\n",
              "      <td>2018-04-11 04:40:35.66 UTC</td>\n",
              "      <td>11820</td>\n",
              "      <td>565</td>\n",
              "      <td>67</td>\n",
              "      <td>3547</td>\n",
              "    </tr>\n",
              "    <tr>\n",
              "      <th>2</th>\n",
              "      <td>2</td>\n",
              "      <td>26</td>\n",
              "      <td>Shawn</td>\n",
              "      <td>2008-08-01 12:18:14.52 UTC</td>\n",
              "      <td>2018-04-11 04:40:35.66 UTC</td>\n",
              "      <td>11820</td>\n",
              "      <td>565</td>\n",
              "      <td>67</td>\n",
              "      <td>3547</td>\n",
              "    </tr>\n",
              "    <tr>\n",
              "      <th>3</th>\n",
              "      <td>3</td>\n",
              "      <td>26</td>\n",
              "      <td>Shawn</td>\n",
              "      <td>2008-08-01 12:18:14.52 UTC</td>\n",
              "      <td>2018-04-11 04:40:35.66 UTC</td>\n",
              "      <td>11820</td>\n",
              "      <td>565</td>\n",
              "      <td>67</td>\n",
              "      <td>3547</td>\n",
              "    </tr>\n",
              "    <tr>\n",
              "      <th>4</th>\n",
              "      <td>4</td>\n",
              "      <td>26</td>\n",
              "      <td>Shawn</td>\n",
              "      <td>2008-08-01 12:18:14.52 UTC</td>\n",
              "      <td>2018-04-11 04:40:35.66 UTC</td>\n",
              "      <td>11820</td>\n",
              "      <td>565</td>\n",
              "      <td>67</td>\n",
              "      <td>3547</td>\n",
              "    </tr>\n",
              "  </tbody>\n",
              "</table>\n",
              "</div>"
            ],
            "text/plain": [
              "   Unnamed: 0  id display_name  ... up_votes down_votes  views\n",
              "0           0  26        Shawn  ...      565         67   3547\n",
              "1           1  26        Shawn  ...      565         67   3547\n",
              "2           2  26        Shawn  ...      565         67   3547\n",
              "3           3  26        Shawn  ...      565         67   3547\n",
              "4           4  26        Shawn  ...      565         67   3547\n",
              "\n",
              "[5 rows x 9 columns]"
            ]
          },
          "metadata": {
            "tags": []
          },
          "execution_count": 20
        }
      ]
    },
    {
      "cell_type": "code",
      "metadata": {
        "id": "FHNA3SqPRam7"
      },
      "source": [
        "#dropp the unwanted column permanently\n",
        "users.drop(\"Unnamed: 0\",axis=1,inplace=True)"
      ],
      "execution_count": 21,
      "outputs": []
    },
    {
      "cell_type": "code",
      "metadata": {
        "colab": {
          "base_uri": "https://localhost:8080/"
        },
        "id": "rVrJi5LrOJfn",
        "outputId": "6edfb695-646c-4d1d-e8b1-d3368829f484"
      },
      "source": [
        "users.drop(\"display_name\",axis=1,inplace=True)\n",
        "users.count()"
      ],
      "execution_count": 22,
      "outputs": [
        {
          "output_type": "execute_result",
          "data": {
            "text/plain": [
              "id                  1990480\n",
              "creation_date       1990480\n",
              "last_access_date    1990480\n",
              "reputation          1990480\n",
              "up_votes            1990480\n",
              "down_votes          1990480\n",
              "views               1990480\n",
              "dtype: int64"
            ]
          },
          "metadata": {
            "tags": []
          },
          "execution_count": 22
        }
      ]
    },
    {
      "cell_type": "code",
      "metadata": {
        "colab": {
          "base_uri": "https://localhost:8080/"
        },
        "id": "uwZpvijAPzt2",
        "outputId": "211d15a0-65c4-4f15-a2f6-b64d83c66207"
      },
      "source": [
        "#Find duplicated records from the dataset users\n",
        "(users.duplicated(subset=['id', 'last_access_date','up_votes','down_votes'])).sum()"
      ],
      "execution_count": 27,
      "outputs": [
        {
          "output_type": "execute_result",
          "data": {
            "text/plain": [
              "1525020"
            ]
          },
          "metadata": {
            "tags": []
          },
          "execution_count": 27
        }
      ]
    },
    {
      "cell_type": "code",
      "metadata": {
        "colab": {
          "base_uri": "https://localhost:8080/"
        },
        "id": "dIB6XkgXSu73",
        "outputId": "8c9de2cf-1338-46f2-c06d-ab3d213e11df"
      },
      "source": [
        "#Find non-duplicated records from the dataset users\n",
        "(~users.duplicated(subset=['id','last_access_date','up_votes','down_votes'])).sum()"
      ],
      "execution_count": 28,
      "outputs": [
        {
          "output_type": "execute_result",
          "data": {
            "text/plain": [
              "465460"
            ]
          },
          "metadata": {
            "tags": []
          },
          "execution_count": 28
        }
      ]
    },
    {
      "cell_type": "code",
      "metadata": {
        "id": "ISiJFFwfUIhE"
      },
      "source": [
        "#Drop duplicate records & create unique users\n",
        "uniqueUsers = users.drop_duplicates()"
      ],
      "execution_count": 29,
      "outputs": []
    },
    {
      "cell_type": "code",
      "metadata": {
        "colab": {
          "base_uri": "https://localhost:8080/"
        },
        "id": "pwnlVGetUdb-",
        "outputId": "bdf0ee75-0630-4ab2-a00f-803c963f8014"
      },
      "source": [
        "uniqueUsers.count()"
      ],
      "execution_count": 30,
      "outputs": [
        {
          "output_type": "execute_result",
          "data": {
            "text/plain": [
              "id                  465460\n",
              "creation_date       465460\n",
              "last_access_date    465460\n",
              "reputation          465460\n",
              "up_votes            465460\n",
              "down_votes          465460\n",
              "views               465460\n",
              "dtype: int64"
            ]
          },
          "metadata": {
            "tags": []
          },
          "execution_count": 30
        }
      ]
    },
    {
      "cell_type": "code",
      "metadata": {
        "id": "atZ-cWlbUiQt"
      },
      "source": [
        ""
      ],
      "execution_count": 30,
      "outputs": []
    },
    {
      "cell_type": "markdown",
      "metadata": {
        "id": "BXj9DVI1b7l4"
      },
      "source": [
        "#Cleaning Answers Dataset"
      ]
    },
    {
      "cell_type": "code",
      "metadata": {
        "colab": {
          "base_uri": "https://localhost:8080/"
        },
        "id": "MG1rS3a-b96A",
        "outputId": "ea8c056f-8b91-40d9-b16f-1395d936e358"
      },
      "source": [
        "answers.count()"
      ],
      "execution_count": 31,
      "outputs": [
        {
          "output_type": "execute_result",
          "data": {
            "text/plain": [
              "Id              2014516\n",
              "OwnerUserId     2001316\n",
              "CreationDate    2014516\n",
              "ParentId        2014516\n",
              "Score           2014516\n",
              "Body            2014516\n",
              "dtype: int64"
            ]
          },
          "metadata": {
            "tags": []
          },
          "execution_count": 31
        }
      ]
    },
    {
      "cell_type": "code",
      "metadata": {
        "id": "8sGHRbFvb_g8",
        "colab": {
          "base_uri": "https://localhost:8080/"
        },
        "outputId": "d8597396-d812-40d2-a437-a7bd5ae3043f"
      },
      "source": [
        "#Remove the missing records\n",
        "answerdata = answers[~answers.OwnerUserId.isnull()]\n",
        "answerdata.count()"
      ],
      "execution_count": 32,
      "outputs": [
        {
          "output_type": "execute_result",
          "data": {
            "text/plain": [
              "Id              2001316\n",
              "OwnerUserId     2001316\n",
              "CreationDate    2001316\n",
              "ParentId        2001316\n",
              "Score           2001316\n",
              "Body            2001316\n",
              "dtype: int64"
            ]
          },
          "metadata": {
            "tags": []
          },
          "execution_count": 32
        }
      ]
    },
    {
      "cell_type": "code",
      "metadata": {
        "colab": {
          "base_uri": "https://localhost:8080/"
        },
        "id": "LBMhq0vikANY",
        "outputId": "278eacde-1a9a-43ba-d9e8-def41fcaec6d"
      },
      "source": [
        "answerdata.info()"
      ],
      "execution_count": 33,
      "outputs": [
        {
          "output_type": "stream",
          "text": [
            "<class 'pandas.core.frame.DataFrame'>\n",
            "Int64Index: 2001316 entries, 0 to 2014515\n",
            "Data columns (total 6 columns):\n",
            " #   Column        Dtype  \n",
            "---  ------        -----  \n",
            " 0   Id            int64  \n",
            " 1   OwnerUserId   float64\n",
            " 2   CreationDate  object \n",
            " 3   ParentId      int64  \n",
            " 4   Score         int64  \n",
            " 5   Body          object \n",
            "dtypes: float64(1), int64(3), object(2)\n",
            "memory usage: 106.9+ MB\n"
          ],
          "name": "stdout"
        }
      ]
    },
    {
      "cell_type": "code",
      "metadata": {
        "id": "Keq_WoU3c8Xf"
      },
      "source": [
        "#convert float to integer type\n",
        "answerdata.OwnerUserId = answerdata.OwnerUserId.astype(int)\n"
      ],
      "execution_count": 34,
      "outputs": []
    },
    {
      "cell_type": "code",
      "metadata": {
        "colab": {
          "base_uri": "https://localhost:8080/"
        },
        "id": "dT_g0DBflmcQ",
        "outputId": "85910d23-03cb-4e39-c53c-29bdfaff4e56"
      },
      "source": [
        "#check the datatype values of columns\n",
        "answerdata.info()"
      ],
      "execution_count": 35,
      "outputs": [
        {
          "output_type": "stream",
          "text": [
            "<class 'pandas.core.frame.DataFrame'>\n",
            "Int64Index: 2001316 entries, 0 to 2014515\n",
            "Data columns (total 6 columns):\n",
            " #   Column        Dtype \n",
            "---  ------        ----- \n",
            " 0   Id            int64 \n",
            " 1   OwnerUserId   int64 \n",
            " 2   CreationDate  object\n",
            " 3   ParentId      int64 \n",
            " 4   Score         int64 \n",
            " 5   Body          object\n",
            "dtypes: int64(4), object(2)\n",
            "memory usage: 106.9+ MB\n"
          ],
          "name": "stdout"
        }
      ]
    },
    {
      "cell_type": "markdown",
      "metadata": {
        "id": "2mkPkmafoKbj"
      },
      "source": [
        "#Trends & analysis"
      ]
    },
    {
      "cell_type": "code",
      "metadata": {
        "id": "dZcKGFBDoMHh"
      },
      "source": [
        "new_df = pd.merge(questions, tags,  how='left')"
      ],
      "execution_count": 36,
      "outputs": []
    },
    {
      "cell_type": "code",
      "metadata": {
        "colab": {
          "base_uri": "https://localhost:8080/",
          "height": 204
        },
        "id": "HBoRHgFd0V88",
        "outputId": "2d101e39-100a-45dc-f01e-5cd1d0d2b2c2"
      },
      "source": [
        "new_df.head()"
      ],
      "execution_count": 37,
      "outputs": [
        {
          "output_type": "execute_result",
          "data": {
            "text/html": [
              "<div>\n",
              "<style scoped>\n",
              "    .dataframe tbody tr th:only-of-type {\n",
              "        vertical-align: middle;\n",
              "    }\n",
              "\n",
              "    .dataframe tbody tr th {\n",
              "        vertical-align: top;\n",
              "    }\n",
              "\n",
              "    .dataframe thead th {\n",
              "        text-align: right;\n",
              "    }\n",
              "</style>\n",
              "<table border=\"1\" class=\"dataframe\">\n",
              "  <thead>\n",
              "    <tr style=\"text-align: right;\">\n",
              "      <th></th>\n",
              "      <th>Id</th>\n",
              "      <th>OwnerUserId</th>\n",
              "      <th>CreationDate</th>\n",
              "      <th>ClosedDate</th>\n",
              "      <th>Score</th>\n",
              "      <th>Title</th>\n",
              "      <th>Body</th>\n",
              "      <th>Tag</th>\n",
              "    </tr>\n",
              "  </thead>\n",
              "  <tbody>\n",
              "    <tr>\n",
              "      <th>0</th>\n",
              "      <td>80</td>\n",
              "      <td>26.0</td>\n",
              "      <td>2008-08-01T13:57:07Z</td>\n",
              "      <td>NaN</td>\n",
              "      <td>26</td>\n",
              "      <td>SQLStatement.execute() - multiple queries in o...</td>\n",
              "      <td>&lt;p&gt;I've written a database generation script i...</td>\n",
              "      <td>flex</td>\n",
              "    </tr>\n",
              "    <tr>\n",
              "      <th>1</th>\n",
              "      <td>80</td>\n",
              "      <td>26.0</td>\n",
              "      <td>2008-08-01T13:57:07Z</td>\n",
              "      <td>NaN</td>\n",
              "      <td>26</td>\n",
              "      <td>SQLStatement.execute() - multiple queries in o...</td>\n",
              "      <td>&lt;p&gt;I've written a database generation script i...</td>\n",
              "      <td>actionscript-3</td>\n",
              "    </tr>\n",
              "    <tr>\n",
              "      <th>2</th>\n",
              "      <td>80</td>\n",
              "      <td>26.0</td>\n",
              "      <td>2008-08-01T13:57:07Z</td>\n",
              "      <td>NaN</td>\n",
              "      <td>26</td>\n",
              "      <td>SQLStatement.execute() - multiple queries in o...</td>\n",
              "      <td>&lt;p&gt;I've written a database generation script i...</td>\n",
              "      <td>air</td>\n",
              "    </tr>\n",
              "    <tr>\n",
              "      <th>3</th>\n",
              "      <td>90</td>\n",
              "      <td>58.0</td>\n",
              "      <td>2008-08-01T14:41:24Z</td>\n",
              "      <td>2012-12-26T03:45:49Z</td>\n",
              "      <td>144</td>\n",
              "      <td>Good branching and merging tutorials for Torto...</td>\n",
              "      <td>&lt;p&gt;Are there any really good tutorials explain...</td>\n",
              "      <td>svn</td>\n",
              "    </tr>\n",
              "    <tr>\n",
              "      <th>4</th>\n",
              "      <td>90</td>\n",
              "      <td>58.0</td>\n",
              "      <td>2008-08-01T14:41:24Z</td>\n",
              "      <td>2012-12-26T03:45:49Z</td>\n",
              "      <td>144</td>\n",
              "      <td>Good branching and merging tutorials for Torto...</td>\n",
              "      <td>&lt;p&gt;Are there any really good tutorials explain...</td>\n",
              "      <td>tortoisesvn</td>\n",
              "    </tr>\n",
              "  </tbody>\n",
              "</table>\n",
              "</div>"
            ],
            "text/plain": [
              "   Id  ...             Tag\n",
              "0  80  ...            flex\n",
              "1  80  ...  actionscript-3\n",
              "2  80  ...             air\n",
              "3  90  ...             svn\n",
              "4  90  ...     tortoisesvn\n",
              "\n",
              "[5 rows x 8 columns]"
            ]
          },
          "metadata": {
            "tags": []
          },
          "execution_count": 37
        }
      ]
    },
    {
      "cell_type": "code",
      "metadata": {
        "id": "uXznUXaX29_S",
        "colab": {
          "base_uri": "https://localhost:8080/"
        },
        "outputId": "50871338-5fdd-48cd-fade-bc879f05914a"
      },
      "source": [
        "# new_df = new_df[~new_df.OwnerUserId.isnull()]\n",
        "new_df.count()"
      ],
      "execution_count": 38,
      "outputs": [
        {
          "output_type": "execute_result",
          "data": {
            "text/plain": [
              "Id              3750994\n",
              "OwnerUserId     3710245\n",
              "CreationDate    3750994\n",
              "ClosedDate       153225\n",
              "Score           3750994\n",
              "Title           3750994\n",
              "Body            3750994\n",
              "Tag             3749881\n",
              "dtype: int64"
            ]
          },
          "metadata": {
            "tags": []
          },
          "execution_count": 38
        }
      ]
    },
    {
      "cell_type": "code",
      "metadata": {
        "colab": {
          "base_uri": "https://localhost:8080/"
        },
        "id": "TRq3RfBjI0KP",
        "outputId": "fa0fa4af-320b-4199-9b1d-bff2539407e7"
      },
      "source": [
        "newdf_closed = new_df[~new_df.ClosedDate.isnull()]\n",
        "newdf_closed.count()"
      ],
      "execution_count": 39,
      "outputs": [
        {
          "output_type": "execute_result",
          "data": {
            "text/plain": [
              "Id              153225\n",
              "OwnerUserId     151265\n",
              "CreationDate    153225\n",
              "ClosedDate      153225\n",
              "Score           153225\n",
              "Title           153225\n",
              "Body            153225\n",
              "Tag             153156\n",
              "dtype: int64"
            ]
          },
          "metadata": {
            "tags": []
          },
          "execution_count": 39
        }
      ]
    },
    {
      "cell_type": "code",
      "metadata": {
        "colab": {
          "base_uri": "https://localhost:8080/"
        },
        "id": "yk3-Ud5gJG3b",
        "outputId": "9823b41c-5fb6-4dc4-b7d4-277ad734cce6"
      },
      "source": [
        "#Closed questions and top tags\n",
        "newdf_closed.Tag.value_counts()"
      ],
      "execution_count": 40,
      "outputs": [
        {
          "output_type": "execute_result",
          "data": {
            "text/plain": [
              "java                 7853\n",
              "php                  7206\n",
              "javascript           6470\n",
              "c#                   5104\n",
              "python               3746\n",
              "                     ... \n",
              "watchconnectivity       1\n",
              "oracle-adf              1\n",
              "ini-set                 1\n",
              "force.com               1\n",
              "brief-bookmarks         1\n",
              "Name: Tag, Length: 10111, dtype: int64"
            ]
          },
          "metadata": {
            "tags": []
          },
          "execution_count": 40
        }
      ]
    },
    {
      "cell_type": "code",
      "metadata": {
        "colab": {
          "base_uri": "https://localhost:8080/",
          "height": 450
        },
        "id": "K7pHjwP2O-8e",
        "outputId": "ab251b30-f678-4fd7-b445-a133c21c1f12"
      },
      "source": [
        "newdf_GroupedData = newdf_closed.groupby(['OwnerUserId','Tag'])\n",
        "newdf_GroupedData.first()"
      ],
      "execution_count": 41,
      "outputs": [
        {
          "output_type": "execute_result",
          "data": {
            "text/html": [
              "<div>\n",
              "<style scoped>\n",
              "    .dataframe tbody tr th:only-of-type {\n",
              "        vertical-align: middle;\n",
              "    }\n",
              "\n",
              "    .dataframe tbody tr th {\n",
              "        vertical-align: top;\n",
              "    }\n",
              "\n",
              "    .dataframe thead th {\n",
              "        text-align: right;\n",
              "    }\n",
              "</style>\n",
              "<table border=\"1\" class=\"dataframe\">\n",
              "  <thead>\n",
              "    <tr style=\"text-align: right;\">\n",
              "      <th></th>\n",
              "      <th></th>\n",
              "      <th>Id</th>\n",
              "      <th>CreationDate</th>\n",
              "      <th>ClosedDate</th>\n",
              "      <th>Score</th>\n",
              "      <th>Title</th>\n",
              "      <th>Body</th>\n",
              "    </tr>\n",
              "    <tr>\n",
              "      <th>OwnerUserId</th>\n",
              "      <th>Tag</th>\n",
              "      <th></th>\n",
              "      <th></th>\n",
              "      <th></th>\n",
              "      <th></th>\n",
              "      <th></th>\n",
              "      <th></th>\n",
              "    </tr>\n",
              "  </thead>\n",
              "  <tbody>\n",
              "    <tr>\n",
              "      <th rowspan=\"3\" valign=\"top\">4.0</th>\n",
              "      <th>c#</th>\n",
              "      <td>3166840</td>\n",
              "      <td>2010-07-02T14:59:01Z</td>\n",
              "      <td>2013-11-30T08:00:42Z</td>\n",
              "      <td>66</td>\n",
              "      <td>What is the difference between casting and con...</td>\n",
              "      <td>&lt;p&gt;Eric Lippert's comments in &lt;a href=\"http://...</td>\n",
              "    </tr>\n",
              "    <tr>\n",
              "      <th>casting</th>\n",
              "      <td>3166840</td>\n",
              "      <td>2010-07-02T14:59:01Z</td>\n",
              "      <td>2013-11-30T08:00:42Z</td>\n",
              "      <td>66</td>\n",
              "      <td>What is the difference between casting and con...</td>\n",
              "      <td>&lt;p&gt;Eric Lippert's comments in &lt;a href=\"http://...</td>\n",
              "    </tr>\n",
              "    <tr>\n",
              "      <th>type-conversion</th>\n",
              "      <td>3166840</td>\n",
              "      <td>2010-07-02T14:59:01Z</td>\n",
              "      <td>2013-11-30T08:00:42Z</td>\n",
              "      <td>66</td>\n",
              "      <td>What is the difference between casting and con...</td>\n",
              "      <td>&lt;p&gt;Eric Lippert's comments in &lt;a href=\"http://...</td>\n",
              "    </tr>\n",
              "    <tr>\n",
              "      <th rowspan=\"2\" valign=\"top\">17.0</th>\n",
              "      <th>cmdlets</th>\n",
              "      <td>2630</td>\n",
              "      <td>2008-08-05T18:01:32Z</td>\n",
              "      <td>2012-02-22T01:58:23Z</td>\n",
              "      <td>14</td>\n",
              "      <td>What are your favorite Powershell Cmdlets?</td>\n",
              "      <td>&lt;p&gt;I just found /n softwares free Powershell N...</td>\n",
              "    </tr>\n",
              "    <tr>\n",
              "      <th>powershell</th>\n",
              "      <td>2630</td>\n",
              "      <td>2008-08-05T18:01:32Z</td>\n",
              "      <td>2012-02-22T01:58:23Z</td>\n",
              "      <td>14</td>\n",
              "      <td>What are your favorite Powershell Cmdlets?</td>\n",
              "      <td>&lt;p&gt;I just found /n softwares free Powershell N...</td>\n",
              "    </tr>\n",
              "    <tr>\n",
              "      <th>...</th>\n",
              "      <th>...</th>\n",
              "      <td>...</td>\n",
              "      <td>...</td>\n",
              "      <td>...</td>\n",
              "      <td>...</td>\n",
              "      <td>...</td>\n",
              "      <td>...</td>\n",
              "    </tr>\n",
              "    <tr>\n",
              "      <th rowspan=\"2\" valign=\"top\">7044612.0</th>\n",
              "      <th>operating-system</th>\n",
              "      <td>40141810</td>\n",
              "      <td>2016-10-19T21:29:05Z</td>\n",
              "      <td>2016-10-19T21:41:54Z</td>\n",
              "      <td>-1</td>\n",
              "      <td>Windows - Where can I find a system() list of ...</td>\n",
              "      <td>&lt;p&gt;This is my first question here in StackOver...</td>\n",
              "    </tr>\n",
              "    <tr>\n",
              "      <th>system</th>\n",
              "      <td>40141810</td>\n",
              "      <td>2016-10-19T21:29:05Z</td>\n",
              "      <td>2016-10-19T21:41:54Z</td>\n",
              "      <td>-1</td>\n",
              "      <td>Windows - Where can I find a system() list of ...</td>\n",
              "      <td>&lt;p&gt;This is my first question here in StackOver...</td>\n",
              "    </tr>\n",
              "    <tr>\n",
              "      <th>7044756.0</th>\n",
              "      <th>c</th>\n",
              "      <td>40142370</td>\n",
              "      <td>2016-10-19T22:12:46Z</td>\n",
              "      <td>2016-10-19T22:17:45Z</td>\n",
              "      <td>-6</td>\n",
              "      <td>How can i find value of first zero in base 2</td>\n",
              "      <td>&lt;p&gt;I'm tried to write a program to find value ...</td>\n",
              "    </tr>\n",
              "    <tr>\n",
              "      <th>7044841.0</th>\n",
              "      <th>python</th>\n",
              "      <td>40142600</td>\n",
              "      <td>2016-10-19T22:33:00Z</td>\n",
              "      <td>2016-10-19T22:34:48Z</td>\n",
              "      <td>-10</td>\n",
              "      <td>Remove white spaces without replace()</td>\n",
              "      <td>&lt;pre&gt;&lt;code&gt;def compress(s):\\n    âââ(str...</td>\n",
              "    </tr>\n",
              "    <tr>\n",
              "      <th>7044882.0</th>\n",
              "      <th>c++</th>\n",
              "      <td>40142790</td>\n",
              "      <td>2016-10-19T22:52:53Z</td>\n",
              "      <td>2016-10-19T23:05:09Z</td>\n",
              "      <td>-5</td>\n",
              "      <td>Why is my switch statement giving me constant ...</td>\n",
              "      <td>&lt;p&gt;Sorry in advance for the weird format of th...</td>\n",
              "    </tr>\n",
              "  </tbody>\n",
              "</table>\n",
              "<p>148463 rows × 6 columns</p>\n",
              "</div>"
            ],
            "text/plain": [
              "                                    Id  ...                                               Body\n",
              "OwnerUserId Tag                         ...                                                   \n",
              "4.0         c#                 3166840  ...  <p>Eric Lippert's comments in <a href=\"http://...\n",
              "            casting            3166840  ...  <p>Eric Lippert's comments in <a href=\"http://...\n",
              "            type-conversion    3166840  ...  <p>Eric Lippert's comments in <a href=\"http://...\n",
              "17.0        cmdlets               2630  ...  <p>I just found /n softwares free Powershell N...\n",
              "            powershell            2630  ...  <p>I just found /n softwares free Powershell N...\n",
              "...                                ...  ...                                                ...\n",
              "7044612.0   operating-system  40141810  ...  <p>This is my first question here in StackOver...\n",
              "            system            40141810  ...  <p>This is my first question here in StackOver...\n",
              "7044756.0   c                 40142370  ...  <p>I'm tried to write a program to find value ...\n",
              "7044841.0   python            40142600  ...  <pre><code>def compress(s):\\n    âââ(str...\n",
              "7044882.0   c++               40142790  ...  <p>Sorry in advance for the weird format of th...\n",
              "\n",
              "[148463 rows x 6 columns]"
            ]
          },
          "metadata": {
            "tags": []
          },
          "execution_count": 41
        }
      ]
    },
    {
      "cell_type": "code",
      "metadata": {
        "id": "0xb347XUYTjU"
      },
      "source": [
        "#Drop ClosedDate as we have so many missing values and handling this missing value is dont make sense..\n",
        "new_df.drop(['ClosedDate'], axis = 1,inplace=True)"
      ],
      "execution_count": 42,
      "outputs": []
    },
    {
      "cell_type": "code",
      "metadata": {
        "colab": {
          "base_uri": "https://localhost:8080/"
        },
        "id": "bCCo2XcoZN-r",
        "outputId": "59990b78-e551-4adf-805e-69fbe40b7fb0"
      },
      "source": [
        "new_df.info()"
      ],
      "execution_count": 43,
      "outputs": [
        {
          "output_type": "stream",
          "text": [
            "<class 'pandas.core.frame.DataFrame'>\n",
            "Int64Index: 3750994 entries, 0 to 3750993\n",
            "Data columns (total 7 columns):\n",
            " #   Column        Dtype  \n",
            "---  ------        -----  \n",
            " 0   Id            int64  \n",
            " 1   OwnerUserId   float64\n",
            " 2   CreationDate  object \n",
            " 3   Score         int64  \n",
            " 4   Title         object \n",
            " 5   Body          object \n",
            " 6   Tag           object \n",
            "dtypes: float64(1), int64(2), object(4)\n",
            "memory usage: 228.9+ MB\n"
          ],
          "name": "stdout"
        }
      ]
    },
    {
      "cell_type": "markdown",
      "metadata": {
        "id": "XXt0H2fmTtPR"
      },
      "source": [
        "#Let's find the users who are active in datascience and asnswerd lot of data science Questions  \n",
        "#Let's merge two tables answers & tags & users need to be merged\n",
        "#answers has the field ParentID & tags has id - both should be joined using this fields, resulted dataset to combine with Users table by using OwneruserID & id from user"
      ]
    },
    {
      "cell_type": "code",
      "metadata": {
        "id": "MBzMRl1CS4io"
      },
      "source": [
        "answerdata = answerdata.rename(columns={'Id': 'answerId','ParentId':\"Id\"})\n"
      ],
      "execution_count": 44,
      "outputs": []
    },
    {
      "cell_type": "code",
      "metadata": {
        "colab": {
          "base_uri": "https://localhost:8080/"
        },
        "id": "hjGqcHekW3ir",
        "outputId": "1f5dae30-5b44-4c65-8b1b-c4ad52c037bc"
      },
      "source": [
        "answertags = pd.merge(answerdata, tags,  how='left')\n",
        "answertags.count()"
      ],
      "execution_count": 45,
      "outputs": [
        {
          "output_type": "execute_result",
          "data": {
            "text/plain": [
              "answerId        5858989\n",
              "OwnerUserId     5858989\n",
              "CreationDate    5858989\n",
              "Id              5858989\n",
              "Score           5858989\n",
              "Body            5858989\n",
              "Tag             5856537\n",
              "dtype: int64"
            ]
          },
          "metadata": {
            "tags": []
          },
          "execution_count": 45
        }
      ]
    },
    {
      "cell_type": "code",
      "metadata": {
        "colab": {
          "base_uri": "https://localhost:8080/",
          "height": 204
        },
        "id": "68qtgc2vT3xt",
        "outputId": "e8e2e4d8-baf7-4847-d2e5-1da649f4c561"
      },
      "source": [
        "answertags.head()"
      ],
      "execution_count": 46,
      "outputs": [
        {
          "output_type": "execute_result",
          "data": {
            "text/html": [
              "<div>\n",
              "<style scoped>\n",
              "    .dataframe tbody tr th:only-of-type {\n",
              "        vertical-align: middle;\n",
              "    }\n",
              "\n",
              "    .dataframe tbody tr th {\n",
              "        vertical-align: top;\n",
              "    }\n",
              "\n",
              "    .dataframe thead th {\n",
              "        text-align: right;\n",
              "    }\n",
              "</style>\n",
              "<table border=\"1\" class=\"dataframe\">\n",
              "  <thead>\n",
              "    <tr style=\"text-align: right;\">\n",
              "      <th></th>\n",
              "      <th>answerId</th>\n",
              "      <th>OwnerUserId</th>\n",
              "      <th>CreationDate</th>\n",
              "      <th>Id</th>\n",
              "      <th>Score</th>\n",
              "      <th>Body</th>\n",
              "      <th>Tag</th>\n",
              "    </tr>\n",
              "  </thead>\n",
              "  <tbody>\n",
              "    <tr>\n",
              "      <th>0</th>\n",
              "      <td>92</td>\n",
              "      <td>61</td>\n",
              "      <td>2008-08-01T14:45:37Z</td>\n",
              "      <td>90</td>\n",
              "      <td>13</td>\n",
              "      <td>&lt;p&gt;&lt;a href=\"http://svnbook.red-bean.com/\"&gt;Vers...</td>\n",
              "      <td>svn</td>\n",
              "    </tr>\n",
              "    <tr>\n",
              "      <th>1</th>\n",
              "      <td>92</td>\n",
              "      <td>61</td>\n",
              "      <td>2008-08-01T14:45:37Z</td>\n",
              "      <td>90</td>\n",
              "      <td>13</td>\n",
              "      <td>&lt;p&gt;&lt;a href=\"http://svnbook.red-bean.com/\"&gt;Vers...</td>\n",
              "      <td>tortoisesvn</td>\n",
              "    </tr>\n",
              "    <tr>\n",
              "      <th>2</th>\n",
              "      <td>92</td>\n",
              "      <td>61</td>\n",
              "      <td>2008-08-01T14:45:37Z</td>\n",
              "      <td>90</td>\n",
              "      <td>13</td>\n",
              "      <td>&lt;p&gt;&lt;a href=\"http://svnbook.red-bean.com/\"&gt;Vers...</td>\n",
              "      <td>branch</td>\n",
              "    </tr>\n",
              "    <tr>\n",
              "      <th>3</th>\n",
              "      <td>92</td>\n",
              "      <td>61</td>\n",
              "      <td>2008-08-01T14:45:37Z</td>\n",
              "      <td>90</td>\n",
              "      <td>13</td>\n",
              "      <td>&lt;p&gt;&lt;a href=\"http://svnbook.red-bean.com/\"&gt;Vers...</td>\n",
              "      <td>branching-and-merging</td>\n",
              "    </tr>\n",
              "    <tr>\n",
              "      <th>4</th>\n",
              "      <td>124</td>\n",
              "      <td>26</td>\n",
              "      <td>2008-08-01T16:09:47Z</td>\n",
              "      <td>80</td>\n",
              "      <td>12</td>\n",
              "      <td>&lt;p&gt;I wound up using this. It is a kind of a ha...</td>\n",
              "      <td>flex</td>\n",
              "    </tr>\n",
              "  </tbody>\n",
              "</table>\n",
              "</div>"
            ],
            "text/plain": [
              "   answerId  ...                    Tag\n",
              "0        92  ...                    svn\n",
              "1        92  ...            tortoisesvn\n",
              "2        92  ...                 branch\n",
              "3        92  ...  branching-and-merging\n",
              "4       124  ...                   flex\n",
              "\n",
              "[5 rows x 7 columns]"
            ]
          },
          "metadata": {
            "tags": []
          },
          "execution_count": 46
        }
      ]
    },
    {
      "cell_type": "code",
      "metadata": {
        "id": "bjNXDuXRUTrW"
      },
      "source": [
        "answertags.drop(['CreationDate','Body'],axis=1,inplace=True)"
      ],
      "execution_count": 47,
      "outputs": []
    },
    {
      "cell_type": "code",
      "metadata": {
        "colab": {
          "base_uri": "https://localhost:8080/"
        },
        "id": "5EdVQg4_YWv1",
        "outputId": "73640911-afa9-41f9-eedd-3fd4fdaa87e7"
      },
      "source": [
        "answertags.info()"
      ],
      "execution_count": 48,
      "outputs": [
        {
          "output_type": "stream",
          "text": [
            "<class 'pandas.core.frame.DataFrame'>\n",
            "Int64Index: 5858989 entries, 0 to 5858988\n",
            "Data columns (total 5 columns):\n",
            " #   Column       Dtype \n",
            "---  ------       ----- \n",
            " 0   answerId     int64 \n",
            " 1   OwnerUserId  int64 \n",
            " 2   Id           int64 \n",
            " 3   Score        int64 \n",
            " 4   Tag          object\n",
            "dtypes: int64(4), object(1)\n",
            "memory usage: 268.2+ MB\n"
          ],
          "name": "stdout"
        }
      ]
    },
    {
      "cell_type": "code",
      "metadata": {
        "colab": {
          "base_uri": "https://localhost:8080/"
        },
        "id": "fuImzMmYYf8N",
        "outputId": "84cb181e-18f6-4536-ea54-9afea9d327e4"
      },
      "source": [
        "answertags.Tag.value_counts()"
      ],
      "execution_count": 50,
      "outputs": [
        {
          "output_type": "execute_result",
          "data": {
            "text/plain": [
              "javascript         204122\n",
              "java               199896\n",
              "c#                 179154\n",
              "php                166898\n",
              "jquery             136320\n",
              "                    ...  \n",
              "objectdatasouce         1\n",
              "viewrendering           1\n",
              "netmon                  1\n",
              "squib                   1\n",
              "novell-idm              1\n",
              "Name: Tag, Length: 35466, dtype: int64"
            ]
          },
          "metadata": {
            "tags": []
          },
          "execution_count": 50
        }
      ]
    },
    {
      "cell_type": "code",
      "metadata": {
        "id": "FcR6Oz06ZNeC"
      },
      "source": [
        "datasciencearray=['python','r','matlab','sas','excel','sql']\n",
        "datascienceusers = answertags.loc[answertags['Tag'].isin(datasciencearray)]"
      ],
      "execution_count": 61,
      "outputs": []
    },
    {
      "cell_type": "code",
      "metadata": {
        "id": "Nqgs5UoVgr__"
      },
      "source": [
        "results = datascienceusers.groupby(['OwnerUserId','Tag'])"
      ],
      "execution_count": 64,
      "outputs": []
    },
    {
      "cell_type": "code",
      "metadata": {
        "colab": {
          "base_uri": "https://localhost:8080/",
          "height": 450
        },
        "id": "v3LLBWEHhzGx",
        "outputId": "dd36cf76-0b92-4154-ce55-1b8f376ef05b"
      },
      "source": [
        "results.first()"
      ],
      "execution_count": 66,
      "outputs": [
        {
          "output_type": "execute_result",
          "data": {
            "text/html": [
              "<div>\n",
              "<style scoped>\n",
              "    .dataframe tbody tr th:only-of-type {\n",
              "        vertical-align: middle;\n",
              "    }\n",
              "\n",
              "    .dataframe tbody tr th {\n",
              "        vertical-align: top;\n",
              "    }\n",
              "\n",
              "    .dataframe thead th {\n",
              "        text-align: right;\n",
              "    }\n",
              "</style>\n",
              "<table border=\"1\" class=\"dataframe\">\n",
              "  <thead>\n",
              "    <tr style=\"text-align: right;\">\n",
              "      <th></th>\n",
              "      <th></th>\n",
              "      <th>answerId</th>\n",
              "      <th>Id</th>\n",
              "      <th>Score</th>\n",
              "    </tr>\n",
              "    <tr>\n",
              "      <th>OwnerUserId</th>\n",
              "      <th>Tag</th>\n",
              "      <th></th>\n",
              "      <th></th>\n",
              "      <th></th>\n",
              "    </tr>\n",
              "  </thead>\n",
              "  <tbody>\n",
              "    <tr>\n",
              "      <th rowspan=\"2\" valign=\"top\">4</th>\n",
              "      <th>excel</th>\n",
              "      <td>260297</td>\n",
              "      <td>260260</td>\n",
              "      <td>4</td>\n",
              "    </tr>\n",
              "    <tr>\n",
              "      <th>sql</th>\n",
              "      <td>4484279</td>\n",
              "      <td>4484250</td>\n",
              "      <td>1</td>\n",
              "    </tr>\n",
              "    <tr>\n",
              "      <th>5</th>\n",
              "      <th>sql</th>\n",
              "      <td>13555</td>\n",
              "      <td>13540</td>\n",
              "      <td>5</td>\n",
              "    </tr>\n",
              "    <tr>\n",
              "      <th rowspan=\"2\" valign=\"top\">13</th>\n",
              "      <th>python</th>\n",
              "      <td>190017</td>\n",
              "      <td>190010</td>\n",
              "      <td>220</td>\n",
              "    </tr>\n",
              "    <tr>\n",
              "      <th>sql</th>\n",
              "      <td>2198330</td>\n",
              "      <td>2198320</td>\n",
              "      <td>0</td>\n",
              "    </tr>\n",
              "    <tr>\n",
              "      <th>...</th>\n",
              "      <th>...</th>\n",
              "      <td>...</td>\n",
              "      <td>...</td>\n",
              "      <td>...</td>\n",
              "    </tr>\n",
              "    <tr>\n",
              "      <th>7039394</th>\n",
              "      <th>python</th>\n",
              "      <td>40142703</td>\n",
              "      <td>40120210</td>\n",
              "      <td>0</td>\n",
              "    </tr>\n",
              "    <tr>\n",
              "      <th>7039430</th>\n",
              "      <th>r</th>\n",
              "      <td>40120266</td>\n",
              "      <td>38481980</td>\n",
              "      <td>0</td>\n",
              "    </tr>\n",
              "    <tr>\n",
              "      <th>7040778</th>\n",
              "      <th>sql</th>\n",
              "      <td>40140116</td>\n",
              "      <td>40139980</td>\n",
              "      <td>0</td>\n",
              "    </tr>\n",
              "    <tr>\n",
              "      <th>7042894</th>\n",
              "      <th>python</th>\n",
              "      <td>40136066</td>\n",
              "      <td>40134810</td>\n",
              "      <td>1</td>\n",
              "    </tr>\n",
              "    <tr>\n",
              "      <th>7044747</th>\n",
              "      <th>python</th>\n",
              "      <td>40142068</td>\n",
              "      <td>40010040</td>\n",
              "      <td>1</td>\n",
              "    </tr>\n",
              "  </tbody>\n",
              "</table>\n",
              "<p>79068 rows × 3 columns</p>\n",
              "</div>"
            ],
            "text/plain": [
              "                    answerId        Id  Score\n",
              "OwnerUserId Tag                              \n",
              "4           excel     260297    260260      4\n",
              "            sql      4484279   4484250      1\n",
              "5           sql        13555     13540      5\n",
              "13          python    190017    190010    220\n",
              "            sql      2198330   2198320      0\n",
              "...                      ...       ...    ...\n",
              "7039394     python  40142703  40120210      0\n",
              "7039430     r       40120266  38481980      0\n",
              "7040778     sql     40140116  40139980      0\n",
              "7042894     python  40136066  40134810      1\n",
              "7044747     python  40142068  40010040      1\n",
              "\n",
              "[79068 rows x 3 columns]"
            ]
          },
          "metadata": {
            "tags": []
          },
          "execution_count": 66
        }
      ]
    },
    {
      "cell_type": "code",
      "metadata": {
        "id": "AngjHG1FiDhP"
      },
      "source": [
        ""
      ],
      "execution_count": null,
      "outputs": []
    }
  ]
}